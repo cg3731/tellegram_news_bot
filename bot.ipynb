{
 "cells": [
  {
   "cell_type": "code",
   "execution_count": 4,
   "metadata": {},
   "outputs": [],
   "source": [
    "from bs4 import BeautifulSoup\n",
    "import telegram\n",
    "import requests\n",
    "import datetime\n",
    "\n",
    "token=\"5228090269:AAGaMC51TzJN3a0ZCJcSGLkmib4ekgizhyk\"\n",
    "receiver_id=2090364215\n",
    "url_1='https://www.ddaily.co.kr/news/section/?sec_no=94'\n",
    "url_2='https://www.ddaily.co.kr/news/section/?sec_no=126'\n"
   ]
  },
  {
   "cell_type": "code",
   "execution_count": 5,
   "metadata": {},
   "outputs": [
    {
     "name": "stdout",
     "output_type": "stream",
     "text": [
      "[\"美 테슬라 차주, 자기 손등에 '마이크로 칩' 이식…무슨 이유?\", '50년만의 달 탐사 로켓 연기됐는데… 무덤덤한 美 여론, 왜? [디지털 & 라이프]', '[DD 퇴근길] 구글도 ‘접는’ 스마트폰 내놓을까…어떤 모습?', '[DD 퇴근길] 개발자 쓸어가던 빅테크, 급브레이크 왜?', '스페이스X - T모바일,  “전세계 모바일 사각지대 없앤다” 협력']\n"
     ]
    }
   ],
   "source": [
    "def title_extract_digitaldaily():\n",
    "    req=requests.get(url_2)\n",
    "    html=req.text\n",
    "    soup=BeautifulSoup(html,'html.parser')\n",
    "    news_list=soup.find(\"div\",class_=\"mo1_arl9\").find_all(\"dl\")[:5]\n",
    "\n",
    "    title_list=[]\n",
    "\n",
    "    for i in news_list:\n",
    "        a=i.find(\"dt\").find(\"a\").get_text()\n",
    "        title_list.append(a)\n",
    "    \n",
    "    return title_list\n",
    "\n"
   ]
  },
  {
   "cell_type": "code",
   "execution_count": 26,
   "metadata": {},
   "outputs": [],
   "source": [
    "def content_extract_digitaldaily():\n",
    "    req=requests.get(url)\n",
    "    html=req.text\n",
    "    soup=BeautifulSoup(html,'html.parser')\n",
    "    news_list=soup.find(\"div\",class_=\"mo1_arl9\").find_all(\"dl\")[:5]\n",
    "\n",
    "    content_list=[]\n",
    "\n",
    "    for i in news_list:\n",
    "        a=i.find(\"dd\").find(\"a\").get_text()\n",
    "        content_list.append(a)\n",
    "    \n",
    "    return content_list\n",
    "    "
   ]
  },
  {
   "cell_type": "code",
   "execution_count": 4,
   "metadata": {},
   "outputs": [
    {
     "name": "stdout",
     "output_type": "stream",
     "text": [
      "2022-08-21\n",
      "2022-08-22\n"
     ]
    }
   ],
   "source": [
    "req=requests.get(url)\n",
    "html=req.text\n",
    "soup=BeautifulSoup(html,'html.parser')\n",
    "news=soup.find(\"div\",class_=\"mo1_arl9\").find(\"dl\")\n",
    "c=news.find(\"span\").get_text()\n",
    "a1=c.split()[1]\n",
    "\n",
    "d=datetime.datetime.today()\n",
    "format = '%Y-%m-%d'\n",
    "str_datetime = datetime.datetime.strftime(d,format)\n",
    "\n",
    "print(a1)\n",
    "print(str_datetime)\n",
    "\n"
   ]
  },
  {
   "cell_type": "code",
   "execution_count": 24,
   "metadata": {},
   "outputs": [],
   "source": [
    "def url_extract_digitaldaily():\n",
    "    req=requests.get(url)\n",
    "    html=req.text\n",
    "    soup=BeautifulSoup(html,'html.parser')\n",
    "    news_list=soup.find(\"div\",class_=\"mo1_arl9\").find_all(\"dl\")\n",
    "\n",
    "    url_list=[]\n",
    "\n",
    "    for i in news_list[:5]:\n",
    "        a=i.find(\"dt\").find(\"a\").attrs['href']\n",
    "        url_list.append(\"https://www.ddaily.co.kr\"+a)\n",
    "    \n",
    "    return url_list\n",
    "    \n"
   ]
  },
  {
   "cell_type": "code",
   "execution_count": 16,
   "metadata": {},
   "outputs": [],
   "source": [
    "def sendMessage(chat_id,message):\n",
    "    bot.sendMessage(chat_id=chat_id, text=message)"
   ]
  },
  {
   "cell_type": "code",
   "execution_count": 43,
   "metadata": {},
   "outputs": [],
   "source": [
    "def join_text(title,url):\n",
    "    result=[]\n",
    "    for i, j in zip(title,url):\n",
    "        result.append(i+j)\n",
    "\n",
    "    return \"\\n\".join(result)\n",
    "        "
   ]
  },
  {
   "cell_type": "code",
   "execution_count": 44,
   "metadata": {},
   "outputs": [],
   "source": [
    "def main():\n",
    "    bot=telegram.Bot(token=token)\n",
    "    news_titles=title_extract_digitaldaily()\n",
    "    #news_sum=content_extract_digitaldaily()\n",
    "    news_url=url_extract_digitaldaily()\n",
    "    message=join_text(news_titles,news_url)\n",
    "    bot.sendMessage(chat_id=receiver_id,text=message)\n",
    "\n",
    "    "
   ]
  },
  {
   "cell_type": "code",
   "execution_count": 47,
   "metadata": {},
   "outputs": [],
   "source": [
    "main()"
   ]
  }
 ],
 "metadata": {
  "kernelspec": {
   "display_name": "Python 3.9.7 ('base')",
   "language": "python",
   "name": "python3"
  },
  "language_info": {
   "codemirror_mode": {
    "name": "ipython",
    "version": 3
   },
   "file_extension": ".py",
   "mimetype": "text/x-python",
   "name": "python",
   "nbconvert_exporter": "python",
   "pygments_lexer": "ipython3",
   "version": "3.9.7"
  },
  "orig_nbformat": 4,
  "vscode": {
   "interpreter": {
    "hash": "9ad34ed6ed6a6166b33ec7758260575daec8b26741246d457f0aea8ac9462e60"
   }
  }
 },
 "nbformat": 4,
 "nbformat_minor": 2
}
